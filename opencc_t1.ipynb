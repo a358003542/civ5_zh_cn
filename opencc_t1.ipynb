{
 "cells": [
  {
   "cell_type": "code",
   "execution_count": 2,
   "id": "25855ab4-7232-4247-b267-324554faf076",
   "metadata": {},
   "outputs": [
    {
     "data": {
      "text/plain": [
       "'汉字'"
      ]
     },
     "execution_count": 2,
     "metadata": {},
     "output_type": "execute_result"
    }
   ],
   "source": [
    "import opencc\n",
    "converter = opencc.OpenCC('hk2s.json')\n",
    "converter.convert('漢字')  # "
   ]
  },
  {
   "cell_type": "code",
   "execution_count": 3,
   "id": "4e360a29-5aca-45b4-aca9-379e7a835c2e",
   "metadata": {},
   "outputs": [],
   "source": [
    "basepath = \"D:\\\\Program Files (x86)\\\\Steam\\\\steamapps\\\\common\\\\Sid Meier's Civilization V\""
   ]
  },
  {
   "cell_type": "code",
   "execution_count": 4,
   "id": "f71007c6-29d3-4996-84be-c96f08b1a8fd",
   "metadata": {},
   "outputs": [],
   "source": [
    "testfile = \"Assets\\\\DLC\\\\DLC_01\\\\Gameplay\\\\XML\\\\Text\\\\ZH_Hant_HK\\\\Civ5CivlopediaDLC_Mongolia.xml\""
   ]
  },
  {
   "cell_type": "code",
   "execution_count": 5,
   "id": "2b680fe4-926c-424b-b3af-d8d8dbd0a350",
   "metadata": {},
   "outputs": [],
   "source": [
    "import os"
   ]
  },
  {
   "cell_type": "code",
   "execution_count": 6,
   "id": "9317241a-ec1c-473a-a827-620cd97de049",
   "metadata": {},
   "outputs": [],
   "source": [
    "testfile_path = os.path.join(basepath, testfile)"
   ]
  },
  {
   "cell_type": "code",
   "execution_count": 7,
   "id": "4bfe1c67-f0c9-4a38-a711-1e497e1f2eb3",
   "metadata": {},
   "outputs": [
    {
     "data": {
      "text/plain": [
       "\"D:\\\\Program Files (x86)\\\\Steam\\\\steamapps\\\\common\\\\Sid Meier's Civilization V\\\\Assets\\\\DLC\\\\DLC_01\\\\Gameplay\\\\XML\\\\Text\\\\ZH_Hant_HK\\\\Civ5CivlopediaDLC_Mongolia.xml\""
      ]
     },
     "execution_count": 7,
     "metadata": {},
     "output_type": "execute_result"
    }
   ],
   "source": [
    "testfile_path"
   ]
  },
  {
   "cell_type": "code",
   "execution_count": 14,
   "id": "8eb1d2a5-7f3f-4d53-b3c6-f80e8067b38f",
   "metadata": {},
   "outputs": [
    {
     "name": "stdout",
     "output_type": "stream",
     "text": [
      "﻿<?xml version=\"1.0\" encoding=\"utf-8\"?>\n",
      "<!--Generated with LocalizationBuddy.-->\n",
      "<!--Copyright Firaxis Games 2010-->\n",
      "<!--All Rights Reserved-->\n",
      "<GameData>\n",
      "  <Language_ZH_Hant_HK>\n",
      "    <Row Tag=\"TXT_KEY_CIV5_GENGHIS_FACTOID_HEADING\">\n",
      "      <Text>成吉思汗軼聞</Text>\n",
      "    </Row>\n",
      "    <Row Tag=\"TXT_KEY_CIV5_GENGHIS_FACTOID_TEXT\">\n",
      "      <Text>最近發現大約 8% 的亞洲人（全球大約 0·5%）的族譜可直接追溯到成吉思汗。</Text>\n",
      "    </Row>\n",
      "    <Row Tag=\"TXT_KEY_CIV5_GENGHIS_HEADING_1\">\n",
      "      <Text>歷史</Text>\n",
      "    </Row>\n",
      "    <Row Tag=\"TXT_KEY_CIV5_GENG\n"
     ]
    }
   ],
   "source": [
    "\n",
    "with open(testfile_path, encoding='utf8') as f:\n",
    "    content = f.read()\n",
    "    print(content[:500])"
   ]
  },
  {
   "cell_type": "code",
   "execution_count": 48,
   "id": "9313ebe4-10c2-4193-b28f-d28c766e8dc9",
   "metadata": {},
   "outputs": [
    {
     "name": "stdout",
     "output_type": "stream",
     "text": [
      "<GameData>\n",
      "  <Language_ZH_Hant_HK>\n",
      "    <Row Tag=\"TXT_KEY_CIV5_GENGHIS_FACTOID_HEADING\">\n",
      "      <Text>成吉思汗軼聞</Text>\n",
      "    </Row>\n",
      "    <Row Tag=\"TXT_KEY_CIV5_GENGHIS_FACTOID_TEXT\">\n",
      "      <Text>最近發現大約 8% 的亞洲\n"
     ]
    }
   ],
   "source": [
    "from lxml import etree\n",
    "doc = etree.XML(content)\n",
    "doc2 = etree.tostring (doc, pretty_print=True, encoding='utf8').decode()\n",
    "print(doc2[:500])"
   ]
  },
  {
   "cell_type": "code",
   "execution_count": 49,
   "id": "342d5e44-a6d9-453c-9e0e-c77304ef0e78",
   "metadata": {},
   "outputs": [],
   "source": [
    "text_e = doc.xpath('//Language_ZH_Hant_HK//Text')"
   ]
  },
  {
   "cell_type": "code",
   "execution_count": 50,
   "id": "4cc3912f-6e9c-4b4d-bf24-f11d50806024",
   "metadata": {},
   "outputs": [],
   "source": [
    "text_e0 = text_e[0]"
   ]
  },
  {
   "cell_type": "code",
   "execution_count": 51,
   "id": "ef74eac6-fae7-4899-bbec-fdb000aa5541",
   "metadata": {},
   "outputs": [
    {
     "data": {
      "text/plain": [
       "'成吉思汗軼聞'"
      ]
     },
     "execution_count": 51,
     "metadata": {},
     "output_type": "execute_result"
    }
   ],
   "source": [
    "text_e0.text"
   ]
  },
  {
   "cell_type": "code",
   "execution_count": 52,
   "id": "e1b587a6-7d2c-477b-92b5-04d7088ba38d",
   "metadata": {},
   "outputs": [
    {
     "data": {
      "text/plain": [
       "'成吉思汗轶闻'"
      ]
     },
     "execution_count": 52,
     "metadata": {},
     "output_type": "execute_result"
    }
   ],
   "source": [
    "converter.convert(text_e0.text)"
   ]
  },
  {
   "cell_type": "code",
   "execution_count": 53,
   "id": "5ff14037-ae23-48b0-927d-28487c3c038d",
   "metadata": {},
   "outputs": [],
   "source": [
    "def replace_text(lst):\n",
    "    for e in lst:\n",
    "        e.text = converter.convert(e.text)\n",
    "\n",
    "replace_text(text_e)\n"
   ]
  },
  {
   "cell_type": "code",
   "execution_count": 55,
   "id": "c82291c1-8018-4b9e-ae9f-1add242ef721",
   "metadata": {},
   "outputs": [
    {
     "name": "stdout",
     "output_type": "stream",
     "text": [
      "<GameData>\n",
      "  <Language_ZH_Hant_HK>\n",
      "    <Row Tag=\"TXT_KEY_CIV5_GENGHIS_FACTOID_HEADING\">\n",
      "      <Text>成吉思汗轶闻</Text>\n",
      "    </Row>\n",
      "    <Row Tag=\"TXT_KEY_CIV5_GENGHIS_FACTOID_TEXT\">\n",
      "      <Text>最近发现大约 8% 的亚洲人（全球大约 0·5%）的族谱可直接追溯到成吉思汗。</Text>\n",
      "    </Row>\n",
      "    <Row Tag=\"TXT_KEY_CIV5_GENGHIS_HEADING_1\">\n",
      "      <Text>历史</Text>\n",
      "    </Row>\n",
      "    <Row Tag=\"TXT_KEY_CIV5_GENGHIS_HEADING_2\">\n",
      "      <Text>出生</Text>\n",
      "    </Row>\n",
      "    <Row Tag=\"TXT_KEY_CIV5_GENGHIS_HEADING_3\">\n",
      "      <Text>早期生活</Text>\n",
      "    </Row>\n",
      "    <Row Tag=\n"
     ]
    }
   ],
   "source": [
    "doc3 = etree.tostring (doc, pretty_print=True, encoding='utf8').decode()\n",
    "print(doc3[:500])"
   ]
  },
  {
   "cell_type": "code",
   "execution_count": 59,
   "id": "be4aa580-02a0-4f6d-9a7a-c887d5faba35",
   "metadata": {},
   "outputs": [],
   "source": [
    "dst_folder , dst_filename = os.path.split(testfile)"
   ]
  },
  {
   "cell_type": "code",
   "execution_count": 61,
   "id": "09099730-5932-4754-9418-50d6d7288770",
   "metadata": {},
   "outputs": [
    {
     "data": {
      "text/plain": [
       "'Assets\\\\DLC\\\\DLC_01\\\\Gameplay\\\\XML\\\\Text\\\\ZH_Hant_HK'"
      ]
     },
     "execution_count": 61,
     "metadata": {},
     "output_type": "execute_result"
    }
   ],
   "source": [
    "dst_folder"
   ]
  },
  {
   "cell_type": "code",
   "execution_count": 62,
   "id": "4e411c30-fe62-4f60-9c7d-b203f578f17a",
   "metadata": {},
   "outputs": [
    {
     "data": {
      "text/plain": [
       "'Civ5CivlopediaDLC_Mongolia.xml'"
      ]
     },
     "execution_count": 62,
     "metadata": {},
     "output_type": "execute_result"
    }
   ],
   "source": [
    "dst_filename"
   ]
  },
  {
   "cell_type": "code",
   "execution_count": 63,
   "id": "741d2190-76eb-4f6b-951f-c4b47ae5e99a",
   "metadata": {},
   "outputs": [],
   "source": [
    "os.makedirs(dst_folder)"
   ]
  },
  {
   "cell_type": "code",
   "execution_count": 64,
   "id": "2099f693-91d9-408f-ac31-151701a27085",
   "metadata": {},
   "outputs": [],
   "source": [
    "src_file = testfile_path"
   ]
  },
  {
   "cell_type": "code",
   "execution_count": 66,
   "id": "62b22b60-d619-43ca-9271-0cf5d4830819",
   "metadata": {},
   "outputs": [],
   "source": [
    "dst_file  = os.path.join('.', testfile)"
   ]
  },
  {
   "cell_type": "code",
   "execution_count": 67,
   "id": "1735c924-e023-4bef-8954-fbe99877fe91",
   "metadata": {},
   "outputs": [
    {
     "data": {
      "text/plain": [
       "'.\\\\Assets\\\\DLC\\\\DLC_01\\\\Gameplay\\\\XML\\\\Text\\\\ZH_Hant_HK\\\\Civ5CivlopediaDLC_Mongolia.xml'"
      ]
     },
     "execution_count": 67,
     "metadata": {},
     "output_type": "execute_result"
    }
   ],
   "source": [
    "dst_file"
   ]
  },
  {
   "cell_type": "code",
   "execution_count": 68,
   "id": "be1d06e5-45e9-4ade-a51a-d4b75d21e199",
   "metadata": {},
   "outputs": [
    {
     "data": {
      "text/plain": [
       "'.\\\\Assets\\\\DLC\\\\DLC_01\\\\Gameplay\\\\XML\\\\Text\\\\ZH_Hant_HK\\\\Civ5CivlopediaDLC_Mongolia.xml'"
      ]
     },
     "execution_count": 68,
     "metadata": {},
     "output_type": "execute_result"
    }
   ],
   "source": [
    "# 备份原文件\n",
    "\n",
    "import shutil\n",
    "\n",
    "shutil.copyfile(src_file, dst_file)"
   ]
  },
  {
   "cell_type": "code",
   "execution_count": 70,
   "id": "b4fc326a-8738-445d-b95a-22b403531a40",
   "metadata": {},
   "outputs": [],
   "source": [
    "# 实际修改文件\n",
    "\n",
    "with open(testfile_path, mode='w', encoding='utf8') as f:\n",
    "    new_content = doc3\n",
    "    f.write(new_content)\n"
   ]
  },
  {
   "cell_type": "code",
   "execution_count": 71,
   "id": "b77b2004-2a1f-4c09-bf70-c979eafeefd5",
   "metadata": {},
   "outputs": [
    {
     "name": "stdout",
     "output_type": "stream",
     "text": [
      "<GameData>\n",
      "  <Language_ZH_Hant_HK>\n",
      "    <Row Tag=\"TXT_KEY_CIV5_GENGHIS_FACTOID_HEADING\">\n",
      "      <Text>成吉思汗轶闻</Text>\n",
      "    </Row>\n",
      "    <Row Tag=\"TXT_KEY_CIV5_GENGHIS_FACTOID_TEXT\">\n",
      "      <Text>最近发现大约 8% 的亚洲人（全球大约 0·5%）的族谱可直接追溯到成吉思汗。</Text>\n",
      "    </Row>\n",
      "    <Row Tag=\"TXT_KEY_CIV5_GENGHIS_HEADING_1\">\n",
      "      <Text>历史</Text>\n",
      "    </Row>\n",
      "    <Row Tag=\"TXT_KEY_CIV5_GENGHIS_HEADING_2\">\n",
      "      <Text>出生</Text>\n",
      "    </Row>\n",
      "    <Row Tag=\"TXT_KEY_CIV5_GENGHIS_HEADING_3\">\n",
      "      <Text>早期生活</Text>\n",
      "    </Row>\n",
      "    <Row Tag=\n"
     ]
    }
   ],
   "source": [
    "with open(testfile_path, encoding='utf8') as f:\n",
    "    content = f.read()\n",
    "    print(content[:500])"
   ]
  },
  {
   "cell_type": "code",
   "execution_count": null,
   "id": "2a9ff0fe-6abb-4c04-9ec9-15bf84428723",
   "metadata": {},
   "outputs": [],
   "source": []
  }
 ],
 "metadata": {
  "kernelspec": {
   "display_name": "Python 3 (ipykernel)",
   "language": "python",
   "name": "python3"
  },
  "language_info": {
   "codemirror_mode": {
    "name": "ipython",
    "version": 3
   },
   "file_extension": ".py",
   "mimetype": "text/x-python",
   "name": "python",
   "nbconvert_exporter": "python",
   "pygments_lexer": "ipython3",
   "version": "3.12.5"
  }
 },
 "nbformat": 4,
 "nbformat_minor": 5
}
